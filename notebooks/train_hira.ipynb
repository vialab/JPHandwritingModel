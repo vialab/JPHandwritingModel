{
 "cells": [
  {
   "cell_type": "markdown",
   "metadata": {},
   "source": [
    "# Dataset editing"
   ]
  },
  {
   "cell_type": "code",
   "execution_count": 2,
   "metadata": {},
   "outputs": [],
   "source": [
    "import skimage.transform\n",
    "import numpy as np\n",
    "from sklearn.model_selection import train_test_split"
   ]
  },
  {
   "cell_type": "code",
   "execution_count": 3,
   "metadata": {},
   "outputs": [],
   "source": [
    "hira = np.load(\"hiragana.npz\")['arr_0'].reshape([-1, 127, 128]).astype(np.float32)\n",
    "\n",
    "hira = hira/np.max(hira)"
   ]
  },
  {
   "cell_type": "code",
   "execution_count": 4,
   "metadata": {},
   "outputs": [],
   "source": [
    "# 71 characters, 160 writers, transform image to 48*48\n",
    "train_images = np.zeros([71 * 160, 48, 48], dtype=np.float32)\n",
    "\n",
    "for i in range(71 * 160):\n",
    "    train_images[i] = skimage.transform.resize(hira[i], (48, 48))\n",
    "\n",
    "arr = np.arange(71)\n",
    "train_labels = np.repeat(arr, 160) # create labels\n",
    "\n",
    "# split to train and test\n",
    "train_images, test_images, train_labels, test_labels = train_test_split(train_images, train_labels, test_size=0.2)"
   ]
  },
  {
   "cell_type": "code",
   "execution_count": 5,
   "metadata": {},
   "outputs": [],
   "source": [
    "np.savez_compressed(\"hiragana_train_images.npz\", train_images)\n",
    "np.savez_compressed(\"hiragana_train_labels.npz\", train_labels)\n",
    "np.savez_compressed(\"hiragana_test_images.npz\", test_images)\n",
    "np.savez_compressed(\"hiragana_test_labels.npz\", test_labels)"
   ]
  },
  {
   "cell_type": "markdown",
   "metadata": {},
   "source": [
    "# Actual training"
   ]
  },
  {
   "cell_type": "code",
   "execution_count": 6,
   "metadata": {},
   "outputs": [
    {
     "name": "stderr",
     "output_type": "stream",
     "text": [
      "2024-01-31 12:52:53.554870: I tensorflow/core/util/port.cc:113] oneDNN custom operations are on. You may see slightly different numerical results due to floating-point round-off errors from different computation orders. To turn them off, set the environment variable `TF_ENABLE_ONEDNN_OPTS=0`.\n",
      "2024-01-31 12:52:53.886189: E external/local_xla/xla/stream_executor/cuda/cuda_dnn.cc:9261] Unable to register cuDNN factory: Attempting to register factory for plugin cuDNN when one has already been registered\n",
      "2024-01-31 12:52:53.886319: E external/local_xla/xla/stream_executor/cuda/cuda_fft.cc:607] Unable to register cuFFT factory: Attempting to register factory for plugin cuFFT when one has already been registered\n",
      "2024-01-31 12:52:53.929925: E external/local_xla/xla/stream_executor/cuda/cuda_blas.cc:1515] Unable to register cuBLAS factory: Attempting to register factory for plugin cuBLAS when one has already been registered\n",
      "2024-01-31 12:52:54.018956: I tensorflow/core/platform/cpu_feature_guard.cc:182] This TensorFlow binary is optimized to use available CPU instructions in performance-critical operations.\n",
      "To enable the following instructions: AVX2 AVX_VNNI FMA, in other operations, rebuild TensorFlow with the appropriate compiler flags.\n",
      "2024-01-31 12:52:54.785600: W tensorflow/compiler/tf2tensorrt/utils/py_utils.cc:38] TF-TRT Warning: Could not find TensorRT\n"
     ]
    }
   ],
   "source": [
    "from tensorflow import keras\n",
    "import numpy as np\n",
    "from keras.preprocessing.image import ImageDataGenerator\n",
    "from keras import backend as K"
   ]
  },
  {
   "cell_type": "code",
   "execution_count": 7,
   "metadata": {},
   "outputs": [],
   "source": [
    "train_images = np.load(\"hiragana_train_images.npz\")['arr_0']\n",
    "train_labels = np.load(\"hiragana_train_labels.npz\")['arr_0']\n",
    "test_images = np.load(\"hiragana_test_images.npz\")['arr_0']\n",
    "test_labels = np.load(\"hiragana_test_labels.npz\")['arr_0']"
   ]
  },
  {
   "cell_type": "code",
   "execution_count": 8,
   "metadata": {},
   "outputs": [
    {
     "name": "stdout",
     "output_type": "stream",
     "text": [
      "Model: \"sequential\"\n",
      "_________________________________________________________________\n",
      " Layer (type)                Output Shape              Param #   \n",
      "=================================================================\n",
      " conv2d (Conv2D)             (None, 46, 46, 64)        640       \n",
      "                                                                 \n",
      " max_pooling2d (MaxPooling2  (None, 23, 23, 64)        0         \n",
      " D)                                                              \n",
      "                                                                 \n",
      " conv2d_1 (Conv2D)           (None, 21, 21, 64)        36928     \n",
      "                                                                 \n",
      " max_pooling2d_1 (MaxPoolin  (None, 10, 10, 64)        0         \n",
      " g2D)                                                            \n",
      "                                                                 \n",
      " conv2d_2 (Conv2D)           (None, 8, 8, 64)          36928     \n",
      "                                                                 \n",
      " max_pooling2d_2 (MaxPoolin  (None, 4, 4, 64)          0         \n",
      " g2D)                                                            \n",
      "                                                                 \n",
      " flatten (Flatten)           (None, 1024)              0         \n",
      "                                                                 \n",
      " dropout (Dropout)           (None, 1024)              0         \n",
      "                                                                 \n",
      " dense (Dense)               (None, 1024)              1049600   \n",
      "                                                                 \n",
      " dense_1 (Dense)             (None, 71)                72775     \n",
      "                                                                 \n",
      "=================================================================\n",
      "Total params: 1196871 (4.57 MB)\n",
      "Trainable params: 1196871 (4.57 MB)\n",
      "Non-trainable params: 0 (0.00 Byte)\n",
      "_________________________________________________________________\n"
     ]
    },
    {
     "name": "stderr",
     "output_type": "stream",
     "text": [
      "2024-01-31 12:53:45.383580: I external/local_xla/xla/stream_executor/cuda/cuda_executor.cc:901] successful NUMA node read from SysFS had negative value (-1), but there must be at least one NUMA node, so returning NUMA node zero. See more at https://github.com/torvalds/linux/blob/v6.0/Documentation/ABI/testing/sysfs-bus-pci#L344-L355\n",
      "2024-01-31 12:53:45.497878: I external/local_xla/xla/stream_executor/cuda/cuda_executor.cc:901] successful NUMA node read from SysFS had negative value (-1), but there must be at least one NUMA node, so returning NUMA node zero. See more at https://github.com/torvalds/linux/blob/v6.0/Documentation/ABI/testing/sysfs-bus-pci#L344-L355\n",
      "2024-01-31 12:53:45.498372: I external/local_xla/xla/stream_executor/cuda/cuda_executor.cc:901] successful NUMA node read from SysFS had negative value (-1), but there must be at least one NUMA node, so returning NUMA node zero. See more at https://github.com/torvalds/linux/blob/v6.0/Documentation/ABI/testing/sysfs-bus-pci#L344-L355\n",
      "2024-01-31 12:53:45.503059: I external/local_xla/xla/stream_executor/cuda/cuda_executor.cc:901] successful NUMA node read from SysFS had negative value (-1), but there must be at least one NUMA node, so returning NUMA node zero. See more at https://github.com/torvalds/linux/blob/v6.0/Documentation/ABI/testing/sysfs-bus-pci#L344-L355\n",
      "2024-01-31 12:53:45.503591: I external/local_xla/xla/stream_executor/cuda/cuda_executor.cc:901] successful NUMA node read from SysFS had negative value (-1), but there must be at least one NUMA node, so returning NUMA node zero. See more at https://github.com/torvalds/linux/blob/v6.0/Documentation/ABI/testing/sysfs-bus-pci#L344-L355\n",
      "2024-01-31 12:53:45.503850: I external/local_xla/xla/stream_executor/cuda/cuda_executor.cc:901] successful NUMA node read from SysFS had negative value (-1), but there must be at least one NUMA node, so returning NUMA node zero. See more at https://github.com/torvalds/linux/blob/v6.0/Documentation/ABI/testing/sysfs-bus-pci#L344-L355\n",
      "2024-01-31 12:53:45.574167: I external/local_xla/xla/stream_executor/cuda/cuda_executor.cc:901] successful NUMA node read from SysFS had negative value (-1), but there must be at least one NUMA node, so returning NUMA node zero. See more at https://github.com/torvalds/linux/blob/v6.0/Documentation/ABI/testing/sysfs-bus-pci#L344-L355\n",
      "2024-01-31 12:53:45.574269: I external/local_xla/xla/stream_executor/cuda/cuda_executor.cc:901] successful NUMA node read from SysFS had negative value (-1), but there must be at least one NUMA node, so returning NUMA node zero. See more at https://github.com/torvalds/linux/blob/v6.0/Documentation/ABI/testing/sysfs-bus-pci#L344-L355\n",
      "2024-01-31 12:53:45.574325: I external/local_xla/xla/stream_executor/cuda/cuda_executor.cc:901] successful NUMA node read from SysFS had negative value (-1), but there must be at least one NUMA node, so returning NUMA node zero. See more at https://github.com/torvalds/linux/blob/v6.0/Documentation/ABI/testing/sysfs-bus-pci#L344-L355\n",
      "2024-01-31 12:53:45.574368: I tensorflow/core/common_runtime/gpu/gpu_device.cc:1929] Created device /job:localhost/replica:0/task:0/device:GPU:0 with 9177 MB memory:  -> device: 0, name: NVIDIA GeForce RTX 4070 Ti, pci bus id: 0000:01:00.0, compute capability: 8.9\n"
     ]
    }
   ],
   "source": [
    "if K.image_data_format() == \"channels_first\":\n",
    "  train_images = train_images.reshape(train_images.shape[0], 1,48,48)\n",
    "  test_images2 = test_images.reshape(test_images.shape[0], 1,48,48)\n",
    "  shape = (1,48,48)\n",
    "else:\n",
    "  train_images = train_images.reshape(train_images.shape[0], 48, 48, 1)\n",
    "  test_images2 = test_images.reshape(test_images.shape[0], 48, 48, 1)\n",
    "  shape = (48,48,1)\n",
    "\n",
    "datagen = ImageDataGenerator(rotation_range=15,zoom_range=0.2)\n",
    "datagen.fit(train_images)\n",
    "\n",
    "model = keras.Sequential([\n",
    "  keras.layers.Conv2D(64, (3,3), activation='relu', input_shape=shape),\n",
    "  keras.layers.MaxPooling2D(2,2),\n",
    "  keras.layers.Conv2D(64, (3,3), activation='relu'),\n",
    "  keras.layers.MaxPooling2D(2,2),\n",
    "  keras.layers.Conv2D(64, (3,3), activation='relu'),\n",
    "  keras.layers.MaxPooling2D(2,2),\n",
    "  keras.layers.Flatten(),\n",
    "  keras.layers.Dropout(0.5),\n",
    "  keras.layers.Dense(1024, activation='relu'),\n",
    "  keras.layers.Dense(71, activation=\"softmax\")\n",
    "])\n",
    "\n",
    "model.summary()\n",
    "\n",
    "model.compile(optimizer='adam',\n",
    "              loss=\"sparse_categorical_crossentropy\",\n",
    "              metrics=['accuracy'])"
   ]
  },
  {
   "cell_type": "code",
   "execution_count": 9,
   "metadata": {},
   "outputs": [
    {
     "name": "stdout",
     "output_type": "stream",
     "text": [
      "Epoch 1/30\n"
     ]
    },
    {
     "name": "stderr",
     "output_type": "stream",
     "text": [
      "/tmp/ipykernel_32367/29902955.py:5: UserWarning: `Model.fit_generator` is deprecated and will be removed in a future version. Please use `Model.fit`, which supports generators.\n",
      "  model.fit_generator(datagen.flow(train_images,train_labels,shuffle=True),epochs=30,validation_data=(test_images2,test_labels),callbacks = [keras.callbacks.EarlyStopping(patience=8,verbose=1,restore_best_weights=True),keras.callbacks.ReduceLROnPlateau(factor=0.5,patience=3,verbose=1)])\n",
      "2024-01-31 12:54:00.175809: I external/local_xla/xla/stream_executor/cuda/cuda_dnn.cc:454] Loaded cuDNN version 8904\n",
      "2024-01-31 12:54:00.311249: I external/local_tsl/tsl/platform/default/subprocess.cc:304] Start cannot spawn child process: No such file or directory\n",
      "2024-01-31 12:54:00.633770: I external/local_tsl/tsl/platform/default/subprocess.cc:304] Start cannot spawn child process: No such file or directory\n",
      "2024-01-31 12:54:00.992002: I external/local_xla/xla/service/service.cc:168] XLA service 0x76bf640128e0 initialized for platform CUDA (this does not guarantee that XLA will be used). Devices:\n",
      "2024-01-31 12:54:00.992016: I external/local_xla/xla/service/service.cc:176]   StreamExecutor device (0): NVIDIA GeForce RTX 4070 Ti, Compute Capability 8.9\n",
      "2024-01-31 12:54:00.997363: I tensorflow/compiler/mlir/tensorflow/utils/dump_mlir_util.cc:269] disabling MLIR crash reproducer, set env var `MLIR_CRASH_REPRODUCER_DIRECTORY` to enable.\n",
      "WARNING: All log messages before absl::InitializeLog() is called are written to STDERR\n",
      "I0000 00:00:1706723641.062375   33249 device_compiler.h:186] Compiled cluster using XLA!  This line is logged at most once for the lifetime of the process.\n"
     ]
    },
    {
     "name": "stdout",
     "output_type": "stream",
     "text": [
      "284/284 [==============================] - 3s 5ms/step - loss: 2.3023 - accuracy: 0.3996 - val_loss: 0.6590 - val_accuracy: 0.8099 - lr: 0.0010\n",
      "Epoch 2/30\n",
      "284/284 [==============================] - 1s 4ms/step - loss: 0.9101 - accuracy: 0.7261 - val_loss: 0.3407 - val_accuracy: 0.9005 - lr: 0.0010\n",
      "Epoch 3/30\n",
      "284/284 [==============================] - 1s 4ms/step - loss: 0.6050 - accuracy: 0.8107 - val_loss: 0.2411 - val_accuracy: 0.9115 - lr: 0.0010\n",
      "Epoch 4/30\n",
      "284/284 [==============================] - 1s 4ms/step - loss: 0.4691 - accuracy: 0.8461 - val_loss: 0.2907 - val_accuracy: 0.9027 - lr: 0.0010\n",
      "Epoch 5/30\n",
      "284/284 [==============================] - 1s 4ms/step - loss: 0.3779 - accuracy: 0.8778 - val_loss: 0.1353 - val_accuracy: 0.9489 - lr: 0.0010\n",
      "Epoch 6/30\n",
      "284/284 [==============================] - 1s 4ms/step - loss: 0.3215 - accuracy: 0.8943 - val_loss: 0.1027 - val_accuracy: 0.9670 - lr: 0.0010\n",
      "Epoch 7/30\n",
      "284/284 [==============================] - 1s 4ms/step - loss: 0.2472 - accuracy: 0.9195 - val_loss: 0.1280 - val_accuracy: 0.9604 - lr: 0.0010\n",
      "Epoch 8/30\n",
      "284/284 [==============================] - 1s 4ms/step - loss: 0.2321 - accuracy: 0.9206 - val_loss: 0.0858 - val_accuracy: 0.9740 - lr: 0.0010\n",
      "Epoch 9/30\n",
      "284/284 [==============================] - 1s 4ms/step - loss: 0.2162 - accuracy: 0.9299 - val_loss: 0.0658 - val_accuracy: 0.9798 - lr: 0.0010\n",
      "Epoch 10/30\n",
      "284/284 [==============================] - 1s 4ms/step - loss: 0.1866 - accuracy: 0.9389 - val_loss: 0.0728 - val_accuracy: 0.9780 - lr: 0.0010\n",
      "Epoch 11/30\n",
      "284/284 [==============================] - 1s 4ms/step - loss: 0.1956 - accuracy: 0.9351 - val_loss: 0.1052 - val_accuracy: 0.9639 - lr: 0.0010\n",
      "Epoch 12/30\n",
      "281/284 [============================>.] - ETA: 0s - loss: 0.1693 - accuracy: 0.9457\n",
      "Epoch 12: ReduceLROnPlateau reducing learning rate to 0.0005000000237487257.\n",
      "284/284 [==============================] - 1s 4ms/step - loss: 0.1683 - accuracy: 0.9461 - val_loss: 0.0729 - val_accuracy: 0.9767 - lr: 0.0010\n",
      "Epoch 13/30\n",
      "284/284 [==============================] - 1s 4ms/step - loss: 0.1060 - accuracy: 0.9665 - val_loss: 0.0493 - val_accuracy: 0.9842 - lr: 5.0000e-04\n",
      "Epoch 14/30\n",
      "284/284 [==============================] - 1s 4ms/step - loss: 0.0949 - accuracy: 0.9682 - val_loss: 0.0526 - val_accuracy: 0.9837 - lr: 5.0000e-04\n",
      "Epoch 15/30\n",
      "284/284 [==============================] - 1s 4ms/step - loss: 0.0982 - accuracy: 0.9673 - val_loss: 0.0493 - val_accuracy: 0.9833 - lr: 5.0000e-04\n",
      "Epoch 16/30\n",
      "282/284 [============================>.] - ETA: 0s - loss: 0.0946 - accuracy: 0.9669\n",
      "Epoch 16: ReduceLROnPlateau reducing learning rate to 0.0002500000118743628.\n",
      "284/284 [==============================] - 1s 4ms/step - loss: 0.0945 - accuracy: 0.9670 - val_loss: 0.0525 - val_accuracy: 0.9837 - lr: 5.0000e-04\n",
      "Epoch 17/30\n",
      "284/284 [==============================] - 1s 4ms/step - loss: 0.0720 - accuracy: 0.9749 - val_loss: 0.0415 - val_accuracy: 0.9859 - lr: 2.5000e-04\n",
      "Epoch 18/30\n",
      "284/284 [==============================] - 1s 4ms/step - loss: 0.0768 - accuracy: 0.9735 - val_loss: 0.0411 - val_accuracy: 0.9859 - lr: 2.5000e-04\n",
      "Epoch 19/30\n",
      "284/284 [==============================] - 1s 4ms/step - loss: 0.0652 - accuracy: 0.9780 - val_loss: 0.0430 - val_accuracy: 0.9855 - lr: 2.5000e-04\n",
      "Epoch 20/30\n",
      "284/284 [==============================] - 1s 4ms/step - loss: 0.0667 - accuracy: 0.9794 - val_loss: 0.0380 - val_accuracy: 0.9864 - lr: 2.5000e-04\n",
      "Epoch 21/30\n",
      "284/284 [==============================] - 1s 5ms/step - loss: 0.0633 - accuracy: 0.9779 - val_loss: 0.0442 - val_accuracy: 0.9868 - lr: 2.5000e-04\n",
      "Epoch 22/30\n",
      "284/284 [==============================] - 1s 4ms/step - loss: 0.0597 - accuracy: 0.9804 - val_loss: 0.0377 - val_accuracy: 0.9872 - lr: 2.5000e-04\n",
      "Epoch 23/30\n",
      "284/284 [==============================] - 1s 4ms/step - loss: 0.0594 - accuracy: 0.9816 - val_loss: 0.0435 - val_accuracy: 0.9872 - lr: 2.5000e-04\n",
      "Epoch 24/30\n",
      "284/284 [==============================] - 1s 4ms/step - loss: 0.0628 - accuracy: 0.9798 - val_loss: 0.0460 - val_accuracy: 0.9868 - lr: 2.5000e-04\n",
      "Epoch 25/30\n",
      "284/284 [==============================] - 1s 4ms/step - loss: 0.0560 - accuracy: 0.9824 - val_loss: 0.0358 - val_accuracy: 0.9881 - lr: 2.5000e-04\n",
      "Epoch 26/30\n",
      "284/284 [==============================] - 1s 4ms/step - loss: 0.0598 - accuracy: 0.9796 - val_loss: 0.0411 - val_accuracy: 0.9877 - lr: 2.5000e-04\n",
      "Epoch 27/30\n",
      "284/284 [==============================] - 1s 4ms/step - loss: 0.0474 - accuracy: 0.9835 - val_loss: 0.0417 - val_accuracy: 0.9877 - lr: 2.5000e-04\n",
      "Epoch 28/30\n",
      "276/284 [============================>.] - ETA: 0s - loss: 0.0516 - accuracy: 0.9826\n",
      "Epoch 28: ReduceLROnPlateau reducing learning rate to 0.0001250000059371814.\n",
      "284/284 [==============================] - 1s 4ms/step - loss: 0.0521 - accuracy: 0.9825 - val_loss: 0.0516 - val_accuracy: 0.9872 - lr: 2.5000e-04\n",
      "Epoch 29/30\n",
      "284/284 [==============================] - 1s 4ms/step - loss: 0.0437 - accuracy: 0.9859 - val_loss: 0.0383 - val_accuracy: 0.9881 - lr: 1.2500e-04\n",
      "Epoch 30/30\n",
      "284/284 [==============================] - 1s 4ms/step - loss: 0.0453 - accuracy: 0.9838 - val_loss: 0.0344 - val_accuracy: 0.9886 - lr: 1.2500e-04\n",
      "71/71 [==============================] - 0s 923us/step - loss: 0.0344 - accuracy: 0.9886\n",
      "Test Accuracy:  0.9885563254356384\n"
     ]
    }
   ],
   "source": [
    "model.compile(optimizer='adam',\n",
    "              loss=\"sparse_categorical_crossentropy\",\n",
    "              metrics=['accuracy'])\n",
    "\n",
    "model.fit_generator(datagen.flow(train_images,train_labels,shuffle=True),epochs=30,validation_data=(test_images2,test_labels),callbacks = [keras.callbacks.EarlyStopping(patience=8,verbose=1,restore_best_weights=True),keras.callbacks.ReduceLROnPlateau(factor=0.5,patience=3,verbose=1)])\n",
    "\n",
    "test_loss, test_acc = model.evaluate(test_images2, test_labels)\n",
    "print(\"Test Accuracy: \", test_acc)"
   ]
  },
  {
   "cell_type": "code",
   "execution_count": 11,
   "metadata": {},
   "outputs": [],
   "source": [
    "model.save(\"hiragana.keras\")"
   ]
  }
 ],
 "metadata": {
  "kernelspec": {
   "display_name": "venv",
   "language": "python",
   "name": "python3"
  },
  "language_info": {
   "codemirror_mode": {
    "name": "ipython",
    "version": 3
   },
   "file_extension": ".py",
   "mimetype": "text/x-python",
   "name": "python",
   "nbconvert_exporter": "python",
   "pygments_lexer": "ipython3",
   "version": "3.11.6"
  }
 },
 "nbformat": 4,
 "nbformat_minor": 2
}
