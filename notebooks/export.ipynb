{
 "cells": [
  {
   "cell_type": "code",
   "execution_count": 7,
   "metadata": {},
   "outputs": [],
   "source": [
    "import coremltools\n",
    "import tensorflow as tf\n",
    "import keras\n",
    "\n",
    "from keras.utils import CustomObjectScope\n",
    "from keras.initializers import glorot_uniform\n"
   ]
  },
  {
   "cell_type": "code",
   "execution_count": 8,
   "metadata": {},
   "outputs": [],
   "source": [
    "label = [\"あ\",\n",
    "\"い\",\n",
    "\"う\",\n",
    "\"え\",\n",
    "\"お\",\n",
    "\"か\",\n",
    "\"が\",\n",
    "\"き\",\n",
    "\"ぎ\",\n",
    "\"く\",\n",
    "\"ぐ\",\n",
    "\"け\",\n",
    "\"げ\",\n",
    "\"こ\",\n",
    "\"ご\",\n",
    "\"さ\",\n",
    "\"ざ\",\n",
    "\"し\",\n",
    "\"じ\",\n",
    "\"す\",\n",
    "\"ず\",\n",
    "\"せ\",\n",
    "\"ぜ\",\n",
    "\"そ\",\n",
    "\"ぞ\",\n",
    "\"た\",\n",
    "\"だ\",\n",
    "\"ち\",\n",
    "\"ぢ\",\n",
    "\"つ\",\n",
    "\"づ\",\n",
    "\"て\",\n",
    "\"で\",\n",
    "\"と\",\n",
    "\"ど\",\n",
    "\"な\",\n",
    "\"に\",\n",
    "\"ぬ\",\n",
    "\"ね\",\n",
    "\"の\",\n",
    "\"は\",\n",
    "\"ば\",\n",
    "\"ぱ\",\n",
    "\"ひ\",\n",
    "\"び\",\n",
    "\"ぴ\",\n",
    "\"ふ\",\n",
    "\"ぶ\",\n",
    "\"ぷ\",\n",
    "\"へ\",\n",
    "\"べ\",\n",
    "\"ぺ\",\n",
    "\"ほ\",\n",
    "\"ぼ\",\n",
    "\"ぽ\",\n",
    "\"ま\",\n",
    "\"み\",\n",
    "\"む\",\n",
    "\"め\",\n",
    "\"も\",\n",
    "\"や\",\n",
    "\"ゆ\",\n",
    "\"よ\",\n",
    "\"ら\",\n",
    "\"り\",\n",
    "\"る\",\n",
    "\"れ\",\n",
    "\"ろ\",\n",
    "\"わ\",\n",
    "\"を\",\n",
    "\"ん\",]\n"
   ]
  },
  {
   "cell_type": "code",
   "execution_count": 9,
   "metadata": {},
   "outputs": [],
   "source": [
    "scale = 1/255.0"
   ]
  },
  {
   "cell_type": "code",
   "execution_count": 12,
   "metadata": {},
   "outputs": [
    {
     "ename": "TypeError",
     "evalue": "convert() got an unexpected keyword argument 'input_names'",
     "output_type": "error",
     "traceback": [
      "\u001b[0;31m---------------------------------------------------------------------------\u001b[0m",
      "\u001b[0;31mTypeError\u001b[0m                                 Traceback (most recent call last)",
      "\u001b[1;32m/run/media/ren/win/Users/Ren/Projects/handwriting-test/notebooks/export.ipynb Cell 4\u001b[0m line \u001b[0;36m2\n\u001b[1;32m      <a href='vscode-notebook-cell:/run/media/ren/win/Users/Ren/Projects/handwriting-test/notebooks/export.ipynb#W3sZmlsZQ%3D%3D?line=0'>1</a>\u001b[0m \u001b[39mwith\u001b[39;00m CustomObjectScope({\u001b[39m'\u001b[39m\u001b[39mGlorotUniform\u001b[39m\u001b[39m'\u001b[39m: glorot_uniform()}):\n\u001b[0;32m----> <a href='vscode-notebook-cell:/run/media/ren/win/Users/Ren/Projects/handwriting-test/notebooks/export.ipynb#W3sZmlsZQ%3D%3D?line=1'>2</a>\u001b[0m \thiragana_model \u001b[39m=\u001b[39m coremltools\u001b[39m.\u001b[39;49mconverters\u001b[39m.\u001b[39;49mconvert(\u001b[39m\"\u001b[39;49m\u001b[39m./hiragana.keras\u001b[39;49m\u001b[39m\"\u001b[39;49m,input_names\u001b[39m=\u001b[39;49m[\u001b[39m\"\u001b[39;49m\u001b[39mimage\u001b[39;49m\u001b[39m\"\u001b[39;49m],image_input_names \u001b[39m=\u001b[39;49m \u001b[39m'\u001b[39;49m\u001b[39mimage\u001b[39;49m\u001b[39m'\u001b[39;49m,class_labels\u001b[39m=\u001b[39;49mlabel,image_scale\u001b[39m=\u001b[39;49mscale)\n\u001b[1;32m      <a href='vscode-notebook-cell:/run/media/ren/win/Users/Ren/Projects/handwriting-test/notebooks/export.ipynb#W3sZmlsZQ%3D%3D?line=2'>3</a>\u001b[0m hiragana_model\u001b[39m.\u001b[39mauthor \u001b[39m=\u001b[39m \u001b[39m\"\u001b[39m\u001b[39mReese D.\u001b[39m\u001b[39m\"\u001b[39m\n\u001b[1;32m      <a href='vscode-notebook-cell:/run/media/ren/win/Users/Ren/Projects/handwriting-test/notebooks/export.ipynb#W3sZmlsZQ%3D%3D?line=3'>4</a>\u001b[0m hiragana_model\u001b[39m.\u001b[39mshort_description \u001b[39m=\u001b[39m \u001b[39m\"\u001b[39m\u001b[39mHandwritten Hiragana Recognition\u001b[39m\u001b[39m\"\u001b[39m\n",
      "\u001b[0;31mTypeError\u001b[0m: convert() got an unexpected keyword argument 'input_names'"
     ]
    }
   ],
   "source": [
    "with CustomObjectScope({'GlorotUniform': glorot_uniform()}):\n",
    "\thiragana_model = coremltools.converters.convert(\"./hiragana.keras\",input_names=[\"image\"],image_input_names = 'image',class_labels=label,image_scale=scale)\n",
    "hiragana_model.author = \"Reese D.\"\n",
    "hiragana_model.short_description = \"Handwritten Hiragana Recognition\"\n",
    "hiragana_model.input_description['image'] = 'Detects handwritten Hiragana'\n",
    "hiragana_model.output_description['output'] = 'Prediction of Hiragana'\n",
    "hiragana_model.save(\"hiragana.mlmodel\")"
   ]
  }
 ],
 "metadata": {
  "kernelspec": {
   "display_name": "venv",
   "language": "python",
   "name": "python3"
  },
  "language_info": {
   "codemirror_mode": {
    "name": "ipython",
    "version": 3
   },
   "file_extension": ".py",
   "mimetype": "text/x-python",
   "name": "python",
   "nbconvert_exporter": "python",
   "pygments_lexer": "ipython3",
   "version": "3.11.6"
  }
 },
 "nbformat": 4,
 "nbformat_minor": 2
}
